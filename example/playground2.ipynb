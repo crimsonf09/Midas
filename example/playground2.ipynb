{
 "cells": [
  {
   "cell_type": "code",
   "execution_count": 1,
   "id": "72554dd7",
   "metadata": {},
   "outputs": [
    {
     "name": "stdout",
     "output_type": "stream",
     "text": [
      "2.2.3\n"
     ]
    }
   ],
   "source": [
    "\n",
    "import datetime\n",
    "\n",
    "\n",
    "import numpy as np\n",
    "import pandas as pd\n",
    "import matplotlib.pyplot as plt\n",
    "\n",
    "from midas.mix import mix_freq, mix_freq2\n",
    "from midas.adl import estimate, forecast, midas_adl, rmse, estimate2,forecast2, midas_adl2\n",
    "print(pd.__version__)\n"
   ]
  },
  {
   "cell_type": "code",
   "execution_count": 2,
   "id": "885d875f",
   "metadata": {},
   "outputs": [
    {
     "name": "stderr",
     "output_type": "stream",
     "text": [
      "C:\\Users\\natou\\AppData\\Local\\Temp\\ipykernel_15788\\2528024445.py:1: UserWarning: Could not infer format, so each element will be parsed individually, falling back to `dateutil`. To ensure parsing is consistent and as-expected, please specify a format.\n",
      "  df_meta = pd.read_csv('testData/2024/meta_alldays_2024.csv', index_col=0, parse_dates=True)\n"
     ]
    }
   ],
   "source": [
    "df_meta = pd.read_csv('testData/2024/meta_alldays_2024.csv', index_col=0, parse_dates=True)"
   ]
  },
  {
   "cell_type": "code",
   "execution_count": 6,
   "id": "16a850a6",
   "metadata": {},
   "outputs": [
    {
     "data": {
      "text/plain": [
       "Index(['dac-camp_sequence', 'dac-camp_jobnumber', 'dac-camp_datestart',\n",
       "       'dac-camp_dateend', 'dac-camp_buytype', 'dac-camp_objective',\n",
       "       'dac-camp_phrase', 'dac-camp_product-subproduct', 'dac-camp_product',\n",
       "       'dac-camp_subproduct', 'dac-camp_freetext', 'dac-camp_kpitype',\n",
       "       'dac-camp_kpicost', 'dac-camp_kpiamount', 'dac-adset_sequence',\n",
       "       'dac-adset_datestart', 'dac-adset_location', 'dac-adset_gender',\n",
       "       'dac-adset_agestart-ageend', 'dac-adset_agestart', 'dac-adset_ageend',\n",
       "       'dac-adset_potentialsize', 'dac-adset_audienceexpand',\n",
       "       'dac-adset_placement', 'dac-adset_creativetype',\n",
       "       'dac-adset_audiencetype', 'dac-adset_freetext', 'dac-ad_datestart',\n",
       "       'dac-ad_format-cta', 'dac-ad_format', 'dac-ad_calltoaction',\n",
       "       'dac-ad_ratio-dimension', 'dac-ad_ratio', 'dac-ad_dimension',\n",
       "       'dac-ad_contenttype', 'dac-ad_freetext', 'year', 'month', 'week',\n",
       "       'week_iso', 'date_start', 'date_stop', 'account_name', 'account_id',\n",
       "       'campaign_name', 'campaign_id', 'campaign_daily_budget',\n",
       "       'campaign_lifetime_budget', 'campaign_effective_status',\n",
       "       'campaign_start_time', 'campaign_stop_time', 'objective', 'adset_name',\n",
       "       'adset_id', 'adset_effective_status', 'adset_targeting',\n",
       "       'adset_daily_budget', 'adset_lifetime_budget', 'ad_name', 'ad_id',\n",
       "       'ad_status', 'image_url', 'preview_shareable_link', 'link',\n",
       "       'effective_object_story_id', 'spend', 'impressions', 'reach',\n",
       "       'frequency', 'estimated_ad_recallers', 'clicks', 'outbound_clicks',\n",
       "       'video_play_actions', 'video_continuous_2_sec_watched_actions',\n",
       "       'video_thruplay_watched_actions', 'video_p25_watched_actions',\n",
       "       'video_p50_watched_actions', 'video_p75_watched_actions',\n",
       "       'video_p100_watched_actions'],\n",
       "      dtype='object')"
      ]
     },
     "execution_count": 6,
     "metadata": {},
     "output_type": "execute_result"
    }
   ],
   "source": [
    "df_meta.columns"
   ]
  },
  {
   "cell_type": "code",
   "execution_count": null,
   "id": "96dc5063",
   "metadata": {},
   "outputs": [],
   "source": []
  }
 ],
 "metadata": {
  "kernelspec": {
   "display_name": "Python 3",
   "language": "python",
   "name": "python3"
  },
  "language_info": {
   "codemirror_mode": {
    "name": "ipython",
    "version": 3
   },
   "file_extension": ".py",
   "mimetype": "text/x-python",
   "name": "python",
   "nbconvert_exporter": "python",
   "pygments_lexer": "ipython3",
   "version": "3.13.3"
  }
 },
 "nbformat": 4,
 "nbformat_minor": 5
}
